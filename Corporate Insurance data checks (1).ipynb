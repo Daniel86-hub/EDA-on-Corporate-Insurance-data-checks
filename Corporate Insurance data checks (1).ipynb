{
 "cells": [
  {
   "cell_type": "markdown",
   "id": "47c106de",
   "metadata": {},
   "source": [
    "# Exploratory Analysis and Feature Engineering of the Corporate Insurance Data Checks data for the project period"
   ]
  },
  {
   "cell_type": "code",
   "execution_count": 1,
   "id": "415ffa8e",
   "metadata": {},
   "outputs": [],
   "source": [
    "import pandas as pd\n",
    "import numpy as np\n",
    "import seaborn as sns\n",
    "import matplotlib.pyplot as plt\n",
    "import os"
   ]
  },
  {
   "cell_type": "markdown",
   "id": "2d1019df",
   "metadata": {},
   "source": [
    "# Creating a working directory"
   ]
  },
  {
   "cell_type": "code",
   "execution_count": 2,
   "id": "3ee98567",
   "metadata": {},
   "outputs": [],
   "source": [
    "os.chdir(r\"C:\\Users\\Daniel\\Documents\\Feature Engineering\")"
   ]
  },
  {
   "cell_type": "markdown",
   "id": "3d125306",
   "metadata": {},
   "source": [
    "# Reading a working directory"
   ]
  },
  {
   "cell_type": "code",
   "execution_count": 3,
   "id": "35905b03",
   "metadata": {},
   "outputs": [
    {
     "data": {
      "text/plain": [
       "'C:\\\\Users\\\\Daniel\\\\Documents\\\\Feature Engineering'"
      ]
     },
     "execution_count": 3,
     "metadata": {},
     "output_type": "execute_result"
    }
   ],
   "source": [
    "os.getcwd()"
   ]
  },
  {
   "cell_type": "markdown",
   "id": "89f3f520",
   "metadata": {},
   "source": [
    "# Reading a dataset from our working directory"
   ]
  },
  {
   "cell_type": "code",
   "execution_count": 4,
   "id": "527d2906",
   "metadata": {},
   "outputs": [],
   "source": [
    "df=pd.read_excel(\"corporate data checks.xlsx\")"
   ]
  },
  {
   "cell_type": "code",
   "execution_count": 5,
   "id": "0ddfbbd1",
   "metadata": {},
   "outputs": [
    {
     "data": {
      "text/html": [
       "<div>\n",
       "<style scoped>\n",
       "    .dataframe tbody tr th:only-of-type {\n",
       "        vertical-align: middle;\n",
       "    }\n",
       "\n",
       "    .dataframe tbody tr th {\n",
       "        vertical-align: top;\n",
       "    }\n",
       "\n",
       "    .dataframe thead th {\n",
       "        text-align: right;\n",
       "    }\n",
       "</style>\n",
       "<table border=\"1\" class=\"dataframe\">\n",
       "  <thead>\n",
       "    <tr style=\"text-align: right;\">\n",
       "      <th></th>\n",
       "      <th>POLICY NO</th>\n",
       "      <th>PLAN</th>\n",
       "      <th>DOB</th>\n",
       "      <th>SUM ASSURED</th>\n",
       "      <th>ANNUAL PREMIUM</th>\n",
       "      <th>FREQUENCY</th>\n",
       "      <th>TERM</th>\n",
       "      <th>GENDER</th>\n",
       "      <th>START DATE</th>\n",
       "      <th>MATURITY DATE</th>\n",
       "      <th>CLAIMS</th>\n",
       "      <th>NAME OF PERSON CHECKING</th>\n",
       "      <th>DATE</th>\n",
       "      <th>Comments</th>\n",
       "    </tr>\n",
       "  </thead>\n",
       "  <tbody>\n",
       "    <tr>\n",
       "      <th>0</th>\n",
       "      <td>4004</td>\n",
       "      <td>Ok</td>\n",
       "      <td>Ok</td>\n",
       "      <td>Ok</td>\n",
       "      <td>Ok</td>\n",
       "      <td>Ok</td>\n",
       "      <td>Ok</td>\n",
       "      <td>Ok</td>\n",
       "      <td>Ok</td>\n",
       "      <td>Ok</td>\n",
       "      <td>Non</td>\n",
       "      <td>Rodgers</td>\n",
       "      <td>5312021</td>\n",
       "      <td>NaN</td>\n",
       "    </tr>\n",
       "    <tr>\n",
       "      <th>1</th>\n",
       "      <td>4005</td>\n",
       "      <td>Ok</td>\n",
       "      <td>Ok</td>\n",
       "      <td>Ok</td>\n",
       "      <td>Ok</td>\n",
       "      <td>Ok</td>\n",
       "      <td>Ok</td>\n",
       "      <td>Ok</td>\n",
       "      <td>Ok</td>\n",
       "      <td>Ok</td>\n",
       "      <td>Non</td>\n",
       "      <td>Rodgers</td>\n",
       "      <td>6022021</td>\n",
       "      <td>NaN</td>\n",
       "    </tr>\n",
       "    <tr>\n",
       "      <th>2</th>\n",
       "      <td>4006</td>\n",
       "      <td>Ok</td>\n",
       "      <td>Ok</td>\n",
       "      <td>Ok</td>\n",
       "      <td>Ok</td>\n",
       "      <td>Ok</td>\n",
       "      <td>Ok</td>\n",
       "      <td>Ok</td>\n",
       "      <td>Ok</td>\n",
       "      <td>Ok</td>\n",
       "      <td>Non</td>\n",
       "      <td>Rodgers</td>\n",
       "      <td>6022021</td>\n",
       "      <td>NaN</td>\n",
       "    </tr>\n",
       "    <tr>\n",
       "      <th>3</th>\n",
       "      <td>4014</td>\n",
       "      <td>Ok</td>\n",
       "      <td>Ok</td>\n",
       "      <td>Ok</td>\n",
       "      <td>Ok</td>\n",
       "      <td>Ok</td>\n",
       "      <td>Ok</td>\n",
       "      <td>Ok</td>\n",
       "      <td>Ok</td>\n",
       "      <td>Ok</td>\n",
       "      <td>Non</td>\n",
       "      <td>Rodgers</td>\n",
       "      <td>6022021</td>\n",
       "      <td>NaN</td>\n",
       "    </tr>\n",
       "    <tr>\n",
       "      <th>4</th>\n",
       "      <td>4016</td>\n",
       "      <td>NaN</td>\n",
       "      <td>NaN</td>\n",
       "      <td>NaN</td>\n",
       "      <td>NaN</td>\n",
       "      <td>NaN</td>\n",
       "      <td>NaN</td>\n",
       "      <td>NaN</td>\n",
       "      <td>NaN</td>\n",
       "      <td>NaN</td>\n",
       "      <td>NaN</td>\n",
       "      <td>Rodgers</td>\n",
       "      <td>6032021</td>\n",
       "      <td>NOT SCANNED</td>\n",
       "    </tr>\n",
       "  </tbody>\n",
       "</table>\n",
       "</div>"
      ],
      "text/plain": [
       "  POLICY NO PLAN  DOB SUM ASSURED ANNUAL PREMIUM FREQUENCY TERM GENDER  \\\n",
       "0      4004   Ok   Ok          Ok             Ok        Ok   Ok     Ok   \n",
       "1      4005   Ok   Ok          Ok             Ok        Ok   Ok     Ok   \n",
       "2      4006   Ok   Ok          Ok             Ok        Ok   Ok     Ok   \n",
       "3      4014   Ok   Ok          Ok             Ok        Ok   Ok     Ok   \n",
       "4      4016  NaN  NaN         NaN            NaN       NaN  NaN    NaN   \n",
       "\n",
       "  START DATE MATURITY DATE CLAIMS NAME OF PERSON CHECKING     DATE  \\\n",
       "0         Ok            Ok    Non                 Rodgers  5312021   \n",
       "1         Ok            Ok    Non                 Rodgers  6022021   \n",
       "2         Ok            Ok    Non                 Rodgers  6022021   \n",
       "3         Ok            Ok    Non                 Rodgers  6022021   \n",
       "4        NaN           NaN    NaN                 Rodgers  6032021   \n",
       "\n",
       "      Comments  \n",
       "0          NaN  \n",
       "1          NaN  \n",
       "2          NaN  \n",
       "3          NaN  \n",
       "4  NOT SCANNED  "
      ]
     },
     "execution_count": 5,
     "metadata": {},
     "output_type": "execute_result"
    }
   ],
   "source": [
    "df.head() #The dataset includes only the sheet 2 data as per 11-06-2021 Status with only 10,702 rows. Let's display the first five rows"
   ]
  },
  {
   "cell_type": "code",
   "execution_count": 6,
   "id": "3b2cae34",
   "metadata": {},
   "outputs": [
    {
     "data": {
      "text/plain": [
       "christine                 2799\n",
       "lairus                    2228\n",
       "Daniel Masibo             1717\n",
       "Rodgers                   1681\n",
       "Joseph                      59\n",
       "Andrew                      22\n",
       "20011667                     4\n",
       "                             4\n",
       "christine                    3\n",
       "chrisrine                    2\n",
       "christtine                   2\n",
       "Not Scanned                  2\n",
       "Surrender                    1\n",
       "laiirus                      1\n",
       "Daniel Masibo                1\n",
       "chrstine                     1\n",
       ")lairus                      1\n",
       "2039518                      1\n",
       "cchristine                   1\n",
       "Daniel Masibo                1\n",
       "lairus.                      1\n",
       "Roders                       1\n",
       "2036984                      1\n",
       "lairud                       1\n",
       "Rodgers                      1\n",
       "51552                        1\n",
       "chrIstine                    1\n",
       "Daniel Masibo\\t6052021       1\n",
       "lairu                        1\n",
       "Anrdrew                      1\n",
       "Lairus                       1\n",
       "51985                        1\n",
       "51975                        1\n",
       "lairus                       1\n",
       "Name: NAME OF PERSON CHECKING, dtype: int64"
      ]
     },
     "execution_count": 6,
     "metadata": {},
     "output_type": "execute_result"
    }
   ],
   "source": [
    "df['NAME OF PERSON CHECKING'].value_counts()"
   ]
  },
  {
   "cell_type": "markdown",
   "id": "f4addf66",
   "metadata": {},
   "source": [
    "From the result above there exists alot of **typos** in the names"
   ]
  },
  {
   "cell_type": "markdown",
   "id": "d6f0ba40",
   "metadata": {},
   "source": [
    "Let's explore further the features in our **DATE** column data"
   ]
  },
  {
   "cell_type": "code",
   "execution_count": 7,
   "id": "5fe13368",
   "metadata": {},
   "outputs": [
    {
     "data": {
      "text/plain": [
       "array([5312021, 6022021, 6032021, 6052021, 6042021, 5252021, 5262021,\n",
       "       5272021, 5112021, nan, 5102021, 5122021, 5113021, 5192021, ' ',\n",
       "       5202021, 5212021, 'Not Scanned', 5182021, 5282021, 5222021,\n",
       "       5242021, 6212021, 5172021, 5162021, 5362021, 5262029, 6112021,\n",
       "       61112021, 622021, 5132021, 52021, 'Daniel Masibo', 5142021,\n",
       "       6132021, 5132018, 51220221, 6062021, 5122020, 6122021, 5762021,\n",
       "       6102021, 50202021, 5262022, 5212020, 53252021, 5, 52525, 6112020,\n",
       "       52542021, 5242000, 5272027], dtype=object)"
      ]
     },
     "execution_count": 7,
     "metadata": {},
     "output_type": "execute_result"
    }
   ],
   "source": [
    "df['DATE'].unique()"
   ]
  },
  {
   "cell_type": "markdown",
   "id": "58df59aa",
   "metadata": {},
   "source": [
    "string character '**Not Scanned**' occuring in the integer **DATE** column"
   ]
  },
  {
   "cell_type": "markdown",
   "id": "77beb98a",
   "metadata": {},
   "source": [
    "Let's **clean** data by **replacing the string feature** by the integer date"
   ]
  },
  {
   "cell_type": "code",
   "execution_count": 8,
   "id": "1089931d",
   "metadata": {},
   "outputs": [],
   "source": [
    "df['DATE']=df['DATE'].replace( ['Not Scanned',' '],5192021)"
   ]
  },
  {
   "cell_type": "code",
   "execution_count": 9,
   "id": "58aec5a8",
   "metadata": {},
   "outputs": [
    {
     "data": {
      "text/plain": [
       "array([5312021, 6022021, 6032021, 6052021, 6042021, 5252021, 5262021,\n",
       "       5272021, 5112021, nan, 5102021, 5122021, 5113021, 5192021, 5202021,\n",
       "       5212021, 5182021, 5282021, 5222021, 5242021, 6212021, 5172021,\n",
       "       5162021, 5362021, 5262029, 6112021, 61112021, 622021, 5132021,\n",
       "       52021, 'Daniel Masibo', 5142021, 6132021, 5132018, 51220221,\n",
       "       6062021, 5122020, 6122021, 5762021, 6102021, 50202021, 5262022,\n",
       "       5212020, 53252021, 5, 52525, 6112020, 52542021, 5242000, 5272027],\n",
       "      dtype=object)"
      ]
     },
     "execution_count": 9,
     "metadata": {},
     "output_type": "execute_result"
    }
   ],
   "source": [
    "df['DATE'].unique()"
   ]
  },
  {
   "cell_type": "markdown",
   "id": "2c666602",
   "metadata": {},
   "source": [
    "Let's list the column headers from our dataset"
   ]
  },
  {
   "cell_type": "code",
   "execution_count": 10,
   "id": "4e1737d9",
   "metadata": {},
   "outputs": [
    {
     "data": {
      "text/plain": [
       "['POLICY NO',\n",
       " 'PLAN',\n",
       " 'DOB',\n",
       " 'SUM ASSURED',\n",
       " 'ANNUAL PREMIUM',\n",
       " 'FREQUENCY',\n",
       " 'TERM',\n",
       " 'GENDER',\n",
       " 'START DATE',\n",
       " 'MATURITY DATE',\n",
       " 'CLAIMS',\n",
       " 'NAME OF PERSON CHECKING',\n",
       " 'DATE',\n",
       " 'Comments']"
      ]
     },
     "execution_count": 10,
     "metadata": {},
     "output_type": "execute_result"
    }
   ],
   "source": [
    "df.columns.to_list()"
   ]
  },
  {
   "cell_type": "markdown",
   "id": "ba8d8989",
   "metadata": {},
   "source": [
    "further **Feature Engineering**\n",
    "\n",
    "The data is provisional as the file is yet to be compiled into one complete copy."
   ]
  },
  {
   "cell_type": "code",
   "execution_count": 11,
   "id": "04e4e1ee",
   "metadata": {},
   "outputs": [
    {
     "name": "stdout",
     "output_type": "stream",
     "text": [
      "Number of files with mature claims:  221\n",
      "Number of files with Lapse/Cancelled claims:  55\n",
      "Number of files with Paid-up claims:  520\n",
      "Number of files with Part-Maturity claims:  621\n",
      "Number of files with Multiple claims:  84\n",
      "Number of files with Non claims:  6600\n",
      "Number of files with Loan against policy:  118\n",
      "Number of files with surrendered policies:  62\n"
     ]
    }
   ],
   "source": [
    "len(df[df['CLAIMS']=='Maturity']) #Let's retrieve the number of files with Mature claims\n",
    "len(df[df['CLAIMS']=='lapsed-cancelled']) #Let's retrieve the number of files with lapse/cancelled claims\n",
    "len(df[df['CLAIMS']=='Paid-up'])  #Let's retrieve the number of files with Paid-up claims\n",
    "len(df[df['CLAIMS']=='Part-Maturity'])  #Let's retrieve the number of files with Part-maturity claims\n",
    "len(df[df['CLAIMS']=='Multiple claims']) #Let's retrieve the number of files with Multiple claims\n",
    "len(df[df['CLAIMS']=='Non']) #Let's retrieve the number of files with claims yet to mature and no claims have been made so far\n",
    "len(df[df['CLAIMS']=='Loan']) #Number of files where the insured has taken a loan against the policy\n",
    "len(df[df['CLAIMS']=='Surrender']) #Claims with Surrender value\n",
    "\n",
    "print(\"Number of files with mature claims: \",len(df[df['CLAIMS']=='Maturity']))\n",
    "print(\"Number of files with Lapse/Cancelled claims: \",len(df[df['CLAIMS']=='lapsed-cancelled']))\n",
    "print(\"Number of files with Paid-up claims: \",len(df[df['CLAIMS']=='Paid-up']))\n",
    "print(\"Number of files with Part-Maturity claims: \",len(df[df['CLAIMS']=='Part-Maturity']))\n",
    "print(\"Number of files with Multiple claims: \",len(df[df['CLAIMS']=='Multiple claims']))\n",
    "print(\"Number of files with Non claims: \",len(df[df['CLAIMS']=='Non']))\n",
    "print(\"Number of files with Loan against policy: \",len(df[df['CLAIMS']=='Loan']))\n",
    "print(\"Number of files with surrendered policies: \",len(df[df['CLAIMS']=='Surrender']))"
   ]
  },
  {
   "cell_type": "code",
   "execution_count": 12,
   "id": "66725d8e",
   "metadata": {},
   "outputs": [
    {
     "name": "stdout",
     "output_type": "stream",
     "text": [
      "<class 'pandas.core.frame.DataFrame'>\n",
      "RangeIndex: 10702 entries, 0 to 10701\n",
      "Data columns (total 14 columns):\n",
      " #   Column                   Non-Null Count  Dtype \n",
      "---  ------                   --------------  ----- \n",
      " 0   POLICY NO                10699 non-null  object\n",
      " 1   PLAN                     8267 non-null   object\n",
      " 2   DOB                      8271 non-null   object\n",
      " 3   SUM ASSURED              8312 non-null   object\n",
      " 4   ANNUAL PREMIUM           8316 non-null   object\n",
      " 5   FREQUENCY                8322 non-null   object\n",
      " 6   TERM                     8312 non-null   object\n",
      " 7   GENDER                   8316 non-null   object\n",
      " 8   START DATE               8320 non-null   object\n",
      " 9   MATURITY DATE            8326 non-null   object\n",
      " 10  CLAIMS                   8318 non-null   object\n",
      " 11  NAME OF PERSON CHECKING  8545 non-null   object\n",
      " 12  DATE                     8173 non-null   object\n",
      " 13  Comments                 250 non-null    object\n",
      "dtypes: object(14)\n",
      "memory usage: 1.1+ MB\n"
     ]
    }
   ],
   "source": [
    "df.info()"
   ]
  },
  {
   "cell_type": "markdown",
   "id": "b1e53f2e",
   "metadata": {},
   "source": [
    "Let's find out how many rows of data are dealt with"
   ]
  },
  {
   "cell_type": "code",
   "execution_count": 13,
   "id": "2dd2ae18",
   "metadata": {},
   "outputs": [
    {
     "name": "stdout",
     "output_type": "stream",
     "text": [
      "10702\n"
     ]
    }
   ],
   "source": [
    "print(len(df))"
   ]
  },
  {
   "cell_type": "code",
   "execution_count": 14,
   "id": "52307684",
   "metadata": {},
   "outputs": [
    {
     "data": {
      "text/plain": [
       "(10702, 14)"
      ]
     },
     "execution_count": 14,
     "metadata": {},
     "output_type": "execute_result"
    }
   ],
   "source": [
    "df.shape  #indicates both the number of rows and columns in our dataset.This captures only files that were checked."
   ]
  },
  {
   "cell_type": "code",
   "execution_count": 15,
   "id": "078f83f9",
   "metadata": {},
   "outputs": [
    {
     "data": {
      "text/plain": [
       "POLICY NO                      3\n",
       "PLAN                        2435\n",
       "DOB                         2431\n",
       "SUM ASSURED                 2390\n",
       "ANNUAL PREMIUM              2386\n",
       "FREQUENCY                   2380\n",
       "TERM                        2390\n",
       "GENDER                      2386\n",
       "START DATE                  2382\n",
       "MATURITY DATE               2376\n",
       "CLAIMS                      2384\n",
       "NAME OF PERSON CHECKING     2157\n",
       "DATE                        2529\n",
       "Comments                   10452\n",
       "dtype: int64"
      ]
     },
     "execution_count": 15,
     "metadata": {},
     "output_type": "execute_result"
    }
   ],
   "source": [
    "df.isnull().sum()"
   ]
  },
  {
   "cell_type": "markdown",
   "id": "f9724d98",
   "metadata": {},
   "source": [
    "## Plotting a heatmap to represent missing values"
   ]
  },
  {
   "cell_type": "code",
   "execution_count": 16,
   "id": "02385d54",
   "metadata": {},
   "outputs": [
    {
     "data": {
      "text/plain": [
       "<AxesSubplot:>"
      ]
     },
     "execution_count": 16,
     "metadata": {},
     "output_type": "execute_result"
    },
    {
     "data": {
      "image/png": "[encoded data removed]",
      "text/plain": [
       "<Figure size 432x288 with 1 Axes>"
      ]
     },
     "metadata": {
      "needs_background": "light"
     },
     "output_type": "display_data"
    }
   ],
   "source": [
    "sns.heatmap(df.isnull(),yticklabels=False,cbar=False,cmap='viridis')"
   ]
  },
  {
   "cell_type": "markdown",
   "id": "898018f2",
   "metadata": {},
   "source": [
    "The **bright streaks** in our **heatmap** indicates **missing data** in our dataset. We will not impute any missing data in this case as we are yet to exhaust all the files with data in our file repository.\n",
    "\n",
    "The bar **gragh below** still provides a **visual representation** of the missing data with **comments** column having the most missing data."
   ]
  },
  {
   "cell_type": "markdown",
   "id": "ef1d568f",
   "metadata": {},
   "source": [
    "### plotting a bar gragh to represent missing values"
   ]
  },
  {
   "cell_type": "code",
   "execution_count": 17,
   "id": "970b8ead",
   "metadata": {},
   "outputs": [
    {
     "data": {
      "image/png": "[encoded data removed]",
      "text/plain": [
       "<Figure size 648x576 with 1 Axes>"
      ]
     },
     "metadata": {
      "needs_background": "light"
     },
     "output_type": "display_data"
    }
   ],
   "source": [
    "# comment column has the most missing values as shown by the bar gragh\n",
    "missing=df.isnull().sum()\n",
    "missing=missing[missing>0]\n",
    "missing.sort_values(inplace=True)\n",
    "plt.figure(figsize=(9,8))\n",
    "missing.plot.bar()\n",
    "plt.show()"
   ]
  },
  {
   "cell_type": "markdown",
   "id": "f357f3ba",
   "metadata": {},
   "source": [
    "It's now clear the column **POLICY NO** has no any missing value "
   ]
  },
  {
   "cell_type": "code",
   "execution_count": 18,
   "id": "773e9737",
   "metadata": {},
   "outputs": [
    {
     "data": {
      "text/html": [
       "<div>\n",
       "<style scoped>\n",
       "    .dataframe tbody tr th:only-of-type {\n",
       "        vertical-align: middle;\n",
       "    }\n",
       "\n",
       "    .dataframe tbody tr th {\n",
       "        vertical-align: top;\n",
       "    }\n",
       "\n",
       "    .dataframe thead th {\n",
       "        text-align: right;\n",
       "    }\n",
       "</style>\n",
       "<table border=\"1\" class=\"dataframe\">\n",
       "  <thead>\n",
       "    <tr style=\"text-align: right;\">\n",
       "      <th></th>\n",
       "      <th>POLICY NO</th>\n",
       "      <th>PLAN</th>\n",
       "      <th>DOB</th>\n",
       "      <th>SUM ASSURED</th>\n",
       "      <th>ANNUAL PREMIUM</th>\n",
       "      <th>FREQUENCY</th>\n",
       "      <th>TERM</th>\n",
       "      <th>GENDER</th>\n",
       "      <th>START DATE</th>\n",
       "      <th>MATURITY DATE</th>\n",
       "      <th>CLAIMS</th>\n",
       "      <th>NAME OF PERSON CHECKING</th>\n",
       "      <th>DATE</th>\n",
       "      <th>Comments</th>\n",
       "    </tr>\n",
       "  </thead>\n",
       "  <tbody>\n",
       "    <tr>\n",
       "      <th>0</th>\n",
       "      <td>4004</td>\n",
       "      <td>Ok</td>\n",
       "      <td>Ok</td>\n",
       "      <td>Ok</td>\n",
       "      <td>Ok</td>\n",
       "      <td>Ok</td>\n",
       "      <td>Ok</td>\n",
       "      <td>Ok</td>\n",
       "      <td>Ok</td>\n",
       "      <td>Ok</td>\n",
       "      <td>Non</td>\n",
       "      <td>Rodgers</td>\n",
       "      <td>5312021</td>\n",
       "      <td>missing</td>\n",
       "    </tr>\n",
       "    <tr>\n",
       "      <th>1</th>\n",
       "      <td>4005</td>\n",
       "      <td>Ok</td>\n",
       "      <td>Ok</td>\n",
       "      <td>Ok</td>\n",
       "      <td>Ok</td>\n",
       "      <td>Ok</td>\n",
       "      <td>Ok</td>\n",
       "      <td>Ok</td>\n",
       "      <td>Ok</td>\n",
       "      <td>Ok</td>\n",
       "      <td>Non</td>\n",
       "      <td>Rodgers</td>\n",
       "      <td>6022021</td>\n",
       "      <td>missing</td>\n",
       "    </tr>\n",
       "    <tr>\n",
       "      <th>2</th>\n",
       "      <td>4006</td>\n",
       "      <td>Ok</td>\n",
       "      <td>Ok</td>\n",
       "      <td>Ok</td>\n",
       "      <td>Ok</td>\n",
       "      <td>Ok</td>\n",
       "      <td>Ok</td>\n",
       "      <td>Ok</td>\n",
       "      <td>Ok</td>\n",
       "      <td>Ok</td>\n",
       "      <td>Non</td>\n",
       "      <td>Rodgers</td>\n",
       "      <td>6022021</td>\n",
       "      <td>missing</td>\n",
       "    </tr>\n",
       "    <tr>\n",
       "      <th>3</th>\n",
       "      <td>4014</td>\n",
       "      <td>Ok</td>\n",
       "      <td>Ok</td>\n",
       "      <td>Ok</td>\n",
       "      <td>Ok</td>\n",
       "      <td>Ok</td>\n",
       "      <td>Ok</td>\n",
       "      <td>Ok</td>\n",
       "      <td>Ok</td>\n",
       "      <td>Ok</td>\n",
       "      <td>Non</td>\n",
       "      <td>Rodgers</td>\n",
       "      <td>6022021</td>\n",
       "      <td>missing</td>\n",
       "    </tr>\n",
       "    <tr>\n",
       "      <th>4</th>\n",
       "      <td>4016</td>\n",
       "      <td>missing</td>\n",
       "      <td>missing</td>\n",
       "      <td>missing</td>\n",
       "      <td>missing</td>\n",
       "      <td>missing</td>\n",
       "      <td>missing</td>\n",
       "      <td>missing</td>\n",
       "      <td>missing</td>\n",
       "      <td>missing</td>\n",
       "      <td>missing</td>\n",
       "      <td>Rodgers</td>\n",
       "      <td>6032021</td>\n",
       "      <td>NOT SCANNED</td>\n",
       "    </tr>\n",
       "    <tr>\n",
       "      <th>...</th>\n",
       "      <td>...</td>\n",
       "      <td>...</td>\n",
       "      <td>...</td>\n",
       "      <td>...</td>\n",
       "      <td>...</td>\n",
       "      <td>...</td>\n",
       "      <td>...</td>\n",
       "      <td>...</td>\n",
       "      <td>...</td>\n",
       "      <td>...</td>\n",
       "      <td>...</td>\n",
       "      <td>...</td>\n",
       "      <td>...</td>\n",
       "      <td>...</td>\n",
       "    </tr>\n",
       "    <tr>\n",
       "      <th>10697</th>\n",
       "      <td>1213969</td>\n",
       "      <td>missing</td>\n",
       "      <td>missing</td>\n",
       "      <td>missing</td>\n",
       "      <td>missing</td>\n",
       "      <td>missing</td>\n",
       "      <td>missing</td>\n",
       "      <td>missing</td>\n",
       "      <td>missing</td>\n",
       "      <td>missing</td>\n",
       "      <td>missing</td>\n",
       "      <td>Rodgers</td>\n",
       "      <td>6032021</td>\n",
       "      <td>NOT SCANNED</td>\n",
       "    </tr>\n",
       "    <tr>\n",
       "      <th>10698</th>\n",
       "      <td>1011466</td>\n",
       "      <td>missing</td>\n",
       "      <td>Ok</td>\n",
       "      <td>Ok</td>\n",
       "      <td>Ok</td>\n",
       "      <td>Ok</td>\n",
       "      <td>Ok</td>\n",
       "      <td>Ok</td>\n",
       "      <td>Ok</td>\n",
       "      <td>Ok</td>\n",
       "      <td>Non</td>\n",
       "      <td>Anrdrew</td>\n",
       "      <td>6022021</td>\n",
       "      <td>missing</td>\n",
       "    </tr>\n",
       "    <tr>\n",
       "      <th>10699</th>\n",
       "      <td>2039583</td>\n",
       "      <td>Ok</td>\n",
       "      <td>Ok</td>\n",
       "      <td>Ok</td>\n",
       "      <td>Ok</td>\n",
       "      <td>Ok</td>\n",
       "      <td>Ok</td>\n",
       "      <td>Ok</td>\n",
       "      <td>Ok</td>\n",
       "      <td>Ok</td>\n",
       "      <td>Non</td>\n",
       "      <td>Andrew</td>\n",
       "      <td>6022021</td>\n",
       "      <td>missing</td>\n",
       "    </tr>\n",
       "    <tr>\n",
       "      <th>10700</th>\n",
       "      <td>1215276</td>\n",
       "      <td>missing</td>\n",
       "      <td>Ok</td>\n",
       "      <td>Ok</td>\n",
       "      <td>Ok</td>\n",
       "      <td>Ok</td>\n",
       "      <td>Ok</td>\n",
       "      <td>Ok</td>\n",
       "      <td>Ok</td>\n",
       "      <td>Ok</td>\n",
       "      <td>Non</td>\n",
       "      <td>Rodgers</td>\n",
       "      <td>6032021</td>\n",
       "      <td>missing</td>\n",
       "    </tr>\n",
       "    <tr>\n",
       "      <th>10701</th>\n",
       "      <td>71881</td>\n",
       "      <td>Ok</td>\n",
       "      <td>Ok</td>\n",
       "      <td>Ok</td>\n",
       "      <td>Ok</td>\n",
       "      <td>Ok</td>\n",
       "      <td>Ok</td>\n",
       "      <td>Ok</td>\n",
       "      <td>Ok</td>\n",
       "      <td>Ok</td>\n",
       "      <td>Non</td>\n",
       "      <td>Daniel Masibo</td>\n",
       "      <td>6022021</td>\n",
       "      <td>missing</td>\n",
       "    </tr>\n",
       "  </tbody>\n",
       "</table>\n",
       "<p>10702 rows × 14 columns</p>\n",
       "</div>"
      ],
      "text/plain": [
       "      POLICY NO     PLAN      DOB SUM ASSURED ANNUAL PREMIUM FREQUENCY  \\\n",
       "0          4004       Ok       Ok          Ok             Ok        Ok   \n",
       "1          4005       Ok       Ok          Ok             Ok        Ok   \n",
       "2          4006       Ok       Ok          Ok             Ok        Ok   \n",
       "3          4014       Ok       Ok          Ok             Ok        Ok   \n",
       "4          4016  missing  missing     missing        missing   missing   \n",
       "...         ...      ...      ...         ...            ...       ...   \n",
       "10697   1213969  missing  missing     missing        missing   missing   \n",
       "10698   1011466  missing       Ok          Ok             Ok        Ok   \n",
       "10699   2039583       Ok       Ok          Ok             Ok        Ok   \n",
       "10700   1215276  missing       Ok          Ok             Ok        Ok   \n",
       "10701     71881       Ok       Ok          Ok             Ok        Ok   \n",
       "\n",
       "          TERM   GENDER START DATE MATURITY DATE   CLAIMS  \\\n",
       "0           Ok       Ok         Ok            Ok      Non   \n",
       "1           Ok       Ok         Ok            Ok      Non   \n",
       "2           Ok       Ok         Ok            Ok      Non   \n",
       "3           Ok       Ok         Ok            Ok      Non   \n",
       "4      missing  missing    missing       missing  missing   \n",
       "...        ...      ...        ...           ...      ...   \n",
       "10697  missing  missing    missing       missing  missing   \n",
       "10698       Ok       Ok         Ok            Ok      Non   \n",
       "10699       Ok       Ok         Ok            Ok      Non   \n",
       "10700       Ok       Ok         Ok            Ok      Non   \n",
       "10701       Ok       Ok         Ok            Ok      Non   \n",
       "\n",
       "      NAME OF PERSON CHECKING     DATE     Comments  \n",
       "0                     Rodgers  5312021      missing  \n",
       "1                     Rodgers  6022021      missing  \n",
       "2                     Rodgers  6022021      missing  \n",
       "3                     Rodgers  6022021      missing  \n",
       "4                     Rodgers  6032021  NOT SCANNED  \n",
       "...                       ...      ...          ...  \n",
       "10697                 Rodgers  6032021  NOT SCANNED  \n",
       "10698                 Anrdrew  6022021      missing  \n",
       "10699                  Andrew  6022021      missing  \n",
       "10700                 Rodgers  6032021      missing  \n",
       "10701           Daniel Masibo  6022021      missing  \n",
       "\n",
       "[10702 rows x 14 columns]"
      ]
     },
     "execution_count": 18,
     "metadata": {},
     "output_type": "execute_result"
    }
   ],
   "source": [
    "df.fillna('missing')"
   ]
  },
  {
   "cell_type": "code",
   "execution_count": 19,
   "id": "0a7054f1",
   "metadata": {},
   "outputs": [],
   "source": [
    "df_1=df.copy()"
   ]
  },
  {
   "cell_type": "markdown",
   "id": "dc9cb798",
   "metadata": {},
   "source": [
    "Let's do away with all the **trailing spaces** in our **NAME OF PERSON CHECKING** column data. This where much of editing was done."
   ]
  },
  {
   "cell_type": "code",
   "execution_count": 20,
   "id": "adceaf1f",
   "metadata": {},
   "outputs": [
    {
     "data": {
      "text/plain": [
       "array(['Rodgers', 'Daniel Masibo', 'christine', 'Daniel Masibo ',\n",
       "       'lairus', 'Joseph', nan, 51552, ')lairus', 51975, 51985,\n",
       "       'christine ', 'Not Scanned', 'chrstine', 'christtine', 'lairus ',\n",
       "       'cchristine', 'Surrender', 'Daniel Masibo\\t6052021', 'Roders',\n",
       "       'chrIstine', 'chrisrine', 'laiirus', 'Andrew', 'lairus.', 'lairud',\n",
       "       ' ', 'lairu', 'Daniel Masibo        ', 2039518, 2036984, 'Lairus',\n",
       "       20011667, 'Rodgers ', 'Anrdrew'], dtype=object)"
      ]
     },
     "execution_count": 20,
     "metadata": {},
     "output_type": "execute_result"
    }
   ],
   "source": [
    "df['NAME OF PERSON CHECKING'].unique()"
   ]
  },
  {
   "cell_type": "markdown",
   "id": "9ac2fd59",
   "metadata": {},
   "source": [
    "**Let's further clean our data**\n",
    "\n",
    "Let's correct the typos created while editing names of the data by data checkers in **NAME OF PERSON CHECKING** column."
   ]
  },
  {
   "cell_type": "code",
   "execution_count": 21,
   "id": "2b8badf1",
   "metadata": {},
   "outputs": [],
   "source": [
    "df_1['NAME OF PERSON CHECKING']= df_1['NAME OF PERSON CHECKING'].replace(['lairu','laiirus','lairud','Lairus','lairus ','lairus.',')lairus'],'lairus')\n",
    "df_1['NAME OF PERSON CHECKING']= df_1['NAME OF PERSON CHECKING'].replace(['christine ','chrisrine','christtine','chrIstine','chrstine','cchristine'],'christine')\n",
    "df_1['NAME OF PERSON CHECKING']= df_1['NAME OF PERSON CHECKING'].replace(['Rodgers ','Roders'],'Rodgers')\n",
    "df_1['NAME OF PERSON CHECKING']= df_1['NAME OF PERSON CHECKING'].replace(['Daniel Masibo\\t6052021','Daniel Masibo ',20011667,'Not Scanned',51975,51985,51552,2036984,'Surrender',2039518],'DanielMasibo')"
   ]
  },
  {
   "cell_type": "markdown",
   "id": "edefdf8a",
   "metadata": {},
   "source": [
    "Strip **Leading**, **Trailing Space** and **all spaces**(white)of the column in pandas:"
   ]
  },
  {
   "cell_type": "code",
   "execution_count": 22,
   "id": "3d89b2d3",
   "metadata": {},
   "outputs": [],
   "source": [
    "df_1['NAME OF PERSON CHECKING']=df_1['NAME OF PERSON CHECKING'].str.strip() #Strip Leading, Trailing Space\n",
    "df_1['NAME OF PERSON CHECKING'] =df_1['NAME OF PERSON CHECKING'].str.replace(\" \",\"\") #strip all spaces(white)"
   ]
  },
  {
   "cell_type": "code",
   "execution_count": 23,
   "id": "f9822c11",
   "metadata": {},
   "outputs": [
    {
     "data": {
      "text/plain": [
       "christine       2809\n",
       "lairus          2235\n",
       "DanielMasibo    1732\n",
       "Rodgers         1683\n",
       "Joseph            59\n",
       "Andrew            22\n",
       "                   4\n",
       "Anrdrew            1\n",
       "Name: NAME OF PERSON CHECKING, dtype: int64"
      ]
     },
     "execution_count": 23,
     "metadata": {},
     "output_type": "execute_result"
    }
   ],
   "source": [
    "df_1['NAME OF PERSON CHECKING'].value_counts()"
   ]
  },
  {
   "cell_type": "markdown",
   "id": "392965fb",
   "metadata": {},
   "source": [
    "Let's handle all the **leading**,**trailing**, and **all spaces**(white) from the **DATE** column"
   ]
  },
  {
   "cell_type": "code",
   "execution_count": 24,
   "id": "1eed2708",
   "metadata": {},
   "outputs": [],
   "source": [
    "df_1['DATE']=df_1['DATE'].str.strip() #Strip Leading, Trailing Space\n",
    "df_1['DATE']=df_1['DATE'].str.replace(\" \",\"\") ##strip all spaces(white)"
   ]
  },
  {
   "cell_type": "markdown",
   "id": "29eb7e48",
   "metadata": {},
   "source": [
    "**Individual work for the project period**\n",
    "\n",
    "Some work haven't been incorporated in the main file. This work therfore is provisional."
   ]
  },
  {
   "cell_type": "code",
   "execution_count": 25,
   "id": "7d338705",
   "metadata": {},
   "outputs": [
    {
     "name": "stdout",
     "output_type": "stream",
     "text": [
      "Daniel's total files done: 1732\n",
      "christine's total files done: 2809\n",
      "Lairus's total files done: 2235\n",
      "Rodgers's total files done: 1683\n",
      "Andrew's total files done: 22\n",
      "Joseph's total files done: 59\n"
     ]
    }
   ],
   "source": [
    "Daniel=df_1[df_1['NAME OF PERSON CHECKING']=='DanielMasibo']\n",
    "christine=df_1[df_1['NAME OF PERSON CHECKING']=='christine']\n",
    "Rodgers=df_1[df_1['NAME OF PERSON CHECKING']=='Rodgers']\n",
    "Lairus=df_1[df_1['NAME OF PERSON CHECKING']=='lairus']\n",
    "Andrew=df_1[df_1['NAME OF PERSON CHECKING']=='Andrew']\n",
    "Joseph=df_1[df_1['NAME OF PERSON CHECKING']=='Joseph']\n",
    "print(\"Daniel's total files done:\",len(Daniel))\n",
    "print(\"christine's total files done:\",len(christine))\n",
    "print(\"Lairus's total files done:\",len(Lairus))\n",
    "print(\"Rodgers's total files done:\",len(Rodgers))\n",
    "print(\"Andrew's total files done:\",len(Andrew))\n",
    "print(\"Joseph's total files done:\",len(Joseph))"
   ]
  },
  {
   "cell_type": "markdown",
   "id": "e7495dfc",
   "metadata": {},
   "source": [
    "saving Daniel's work for the **whole project period**. This excludes other files yet to be incorporated in the parent file**(sheet2)**"
   ]
  },
  {
   "cell_type": "code",
   "execution_count": 26,
   "id": "1303a800",
   "metadata": {},
   "outputs": [],
   "source": [
    "Daniel.to_excel('Daniel_total_1.xlsx') "
   ]
  },
  {
   "cell_type": "markdown",
   "id": "c6c201fa",
   "metadata": {},
   "source": [
    "**Total Number of physical files done on Friday, 11-06-2021**\n",
    "\n",
    "An excercise carried out to capture files regarded as missing."
   ]
  },
  {
   "cell_type": "code",
   "execution_count": 27,
   "id": "d2bf016f",
   "metadata": {},
   "outputs": [
    {
     "name": "stdout",
     "output_type": "stream",
     "text": [
      "385\n"
     ]
    },
    {
     "data": {
      "text/html": [
       "<div>\n",
       "<style scoped>\n",
       "    .dataframe tbody tr th:only-of-type {\n",
       "        vertical-align: middle;\n",
       "    }\n",
       "\n",
       "    .dataframe tbody tr th {\n",
       "        vertical-align: top;\n",
       "    }\n",
       "\n",
       "    .dataframe thead th {\n",
       "        text-align: right;\n",
       "    }\n",
       "</style>\n",
       "<table border=\"1\" class=\"dataframe\">\n",
       "  <thead>\n",
       "    <tr style=\"text-align: right;\">\n",
       "      <th></th>\n",
       "      <th>POLICY NO</th>\n",
       "      <th>PLAN</th>\n",
       "      <th>DOB</th>\n",
       "      <th>SUM ASSURED</th>\n",
       "      <th>ANNUAL PREMIUM</th>\n",
       "      <th>FREQUENCY</th>\n",
       "      <th>TERM</th>\n",
       "      <th>GENDER</th>\n",
       "      <th>START DATE</th>\n",
       "      <th>MATURITY DATE</th>\n",
       "      <th>CLAIMS</th>\n",
       "      <th>NAME OF PERSON CHECKING</th>\n",
       "      <th>DATE</th>\n",
       "      <th>Comments</th>\n",
       "    </tr>\n",
       "  </thead>\n",
       "  <tbody>\n",
       "    <tr>\n",
       "      <th>2277</th>\n",
       "      <td>71581</td>\n",
       "      <td>Ok</td>\n",
       "      <td>Ok</td>\n",
       "      <td>Ok</td>\n",
       "      <td>Ok</td>\n",
       "      <td>Ok</td>\n",
       "      <td>Ok</td>\n",
       "      <td>Ok</td>\n",
       "      <td>Not Ok</td>\n",
       "      <td>Not Ok</td>\n",
       "      <td>Non</td>\n",
       "      <td>lairus</td>\n",
       "      <td>6112021</td>\n",
       "      <td>NaN</td>\n",
       "    </tr>\n",
       "    <tr>\n",
       "      <th>2285</th>\n",
       "      <td>7159</td>\n",
       "      <td>Ok</td>\n",
       "      <td>Ok</td>\n",
       "      <td>Ok</td>\n",
       "      <td>Ok</td>\n",
       "      <td>Ok</td>\n",
       "      <td>Ok</td>\n",
       "      <td>Ok</td>\n",
       "      <td>Ok</td>\n",
       "      <td>Ok</td>\n",
       "      <td>Non</td>\n",
       "      <td>lairus</td>\n",
       "      <td>6112021</td>\n",
       "      <td>NaN</td>\n",
       "    </tr>\n",
       "    <tr>\n",
       "      <th>2398</th>\n",
       "      <td>7191</td>\n",
       "      <td>Ok</td>\n",
       "      <td>Ok</td>\n",
       "      <td>Ok</td>\n",
       "      <td>Ok</td>\n",
       "      <td>Ok</td>\n",
       "      <td>Ok</td>\n",
       "      <td>Ok</td>\n",
       "      <td>Ok</td>\n",
       "      <td>Ok</td>\n",
       "      <td>Non</td>\n",
       "      <td>lairus</td>\n",
       "      <td>6112021</td>\n",
       "      <td>NaN</td>\n",
       "    </tr>\n",
       "    <tr>\n",
       "      <th>2399</th>\n",
       "      <td>7194</td>\n",
       "      <td>Ok</td>\n",
       "      <td>Ok</td>\n",
       "      <td>Ok</td>\n",
       "      <td>Ok</td>\n",
       "      <td>Ok</td>\n",
       "      <td>Ok</td>\n",
       "      <td>Ok</td>\n",
       "      <td>Ok</td>\n",
       "      <td>Ok</td>\n",
       "      <td>Non</td>\n",
       "      <td>lairus</td>\n",
       "      <td>6112021</td>\n",
       "      <td>NaN</td>\n",
       "    </tr>\n",
       "    <tr>\n",
       "      <th>2402</th>\n",
       "      <td>7215</td>\n",
       "      <td>Ok</td>\n",
       "      <td>Ok</td>\n",
       "      <td>Ok</td>\n",
       "      <td>Ok</td>\n",
       "      <td>Ok</td>\n",
       "      <td>Ok</td>\n",
       "      <td>Ok</td>\n",
       "      <td>Not Ok</td>\n",
       "      <td>Not Ok</td>\n",
       "      <td>Non</td>\n",
       "      <td>lairus</td>\n",
       "      <td>6112021</td>\n",
       "      <td>NaN</td>\n",
       "    </tr>\n",
       "    <tr>\n",
       "      <th>...</th>\n",
       "      <td>...</td>\n",
       "      <td>...</td>\n",
       "      <td>...</td>\n",
       "      <td>...</td>\n",
       "      <td>...</td>\n",
       "      <td>...</td>\n",
       "      <td>...</td>\n",
       "      <td>...</td>\n",
       "      <td>...</td>\n",
       "      <td>...</td>\n",
       "      <td>...</td>\n",
       "      <td>...</td>\n",
       "      <td>...</td>\n",
       "      <td>...</td>\n",
       "    </tr>\n",
       "    <tr>\n",
       "      <th>8420</th>\n",
       "      <td>2031309</td>\n",
       "      <td>Ok</td>\n",
       "      <td>Ok</td>\n",
       "      <td>Ok</td>\n",
       "      <td>Ok</td>\n",
       "      <td>Ok</td>\n",
       "      <td>Ok</td>\n",
       "      <td>Ok</td>\n",
       "      <td>Ok</td>\n",
       "      <td>Ok</td>\n",
       "      <td>Non</td>\n",
       "      <td>Daniel Masibo</td>\n",
       "      <td>6112021</td>\n",
       "      <td>NaN</td>\n",
       "    </tr>\n",
       "    <tr>\n",
       "      <th>8554</th>\n",
       "      <td>2035462</td>\n",
       "      <td>Ok</td>\n",
       "      <td>Ok</td>\n",
       "      <td>Ok</td>\n",
       "      <td>Ok</td>\n",
       "      <td>Ok</td>\n",
       "      <td>Ok</td>\n",
       "      <td>Ok</td>\n",
       "      <td>Ok</td>\n",
       "      <td>Ok</td>\n",
       "      <td>Maturity</td>\n",
       "      <td>Daniel Masibo</td>\n",
       "      <td>6112021</td>\n",
       "      <td>NaN</td>\n",
       "    </tr>\n",
       "    <tr>\n",
       "      <th>8595</th>\n",
       "      <td>2035770</td>\n",
       "      <td>Ok</td>\n",
       "      <td>Ok</td>\n",
       "      <td>Ok</td>\n",
       "      <td>Ok</td>\n",
       "      <td>Ok</td>\n",
       "      <td>Ok</td>\n",
       "      <td>Ok</td>\n",
       "      <td>Ok</td>\n",
       "      <td>Ok</td>\n",
       "      <td>Loan</td>\n",
       "      <td>Rodgers</td>\n",
       "      <td>6112021</td>\n",
       "      <td>NaN</td>\n",
       "    </tr>\n",
       "    <tr>\n",
       "      <th>8853</th>\n",
       "      <td>2036415</td>\n",
       "      <td>Ok</td>\n",
       "      <td>Ok</td>\n",
       "      <td>Ok</td>\n",
       "      <td>Ok</td>\n",
       "      <td>Ok</td>\n",
       "      <td>Ok</td>\n",
       "      <td>Ok</td>\n",
       "      <td>Ok</td>\n",
       "      <td>Ok</td>\n",
       "      <td>Non</td>\n",
       "      <td>Rodgers</td>\n",
       "      <td>6112021</td>\n",
       "      <td>NaN</td>\n",
       "    </tr>\n",
       "    <tr>\n",
       "      <th>9720</th>\n",
       "      <td>2030729</td>\n",
       "      <td>Ok</td>\n",
       "      <td>Ok</td>\n",
       "      <td>Ok</td>\n",
       "      <td>Ok</td>\n",
       "      <td>Ok</td>\n",
       "      <td>Ok</td>\n",
       "      <td>Ok</td>\n",
       "      <td>Ok</td>\n",
       "      <td>Ok</td>\n",
       "      <td>Non</td>\n",
       "      <td>Rodgers</td>\n",
       "      <td>6112021</td>\n",
       "      <td>NaN</td>\n",
       "    </tr>\n",
       "  </tbody>\n",
       "</table>\n",
       "<p>385 rows × 14 columns</p>\n",
       "</div>"
      ],
      "text/plain": [
       "     POLICY NO PLAN DOB SUM ASSURED ANNUAL PREMIUM FREQUENCY TERM GENDER  \\\n",
       "2277     71581   Ok  Ok          Ok             Ok        Ok   Ok     Ok   \n",
       "2285      7159   Ok  Ok          Ok             Ok        Ok   Ok     Ok   \n",
       "2398      7191   Ok  Ok          Ok             Ok        Ok   Ok     Ok   \n",
       "2399      7194   Ok  Ok          Ok             Ok        Ok   Ok     Ok   \n",
       "2402      7215   Ok  Ok          Ok             Ok        Ok   Ok     Ok   \n",
       "...        ...  ...  ..         ...            ...       ...  ...    ...   \n",
       "8420   2031309   Ok  Ok          Ok             Ok        Ok   Ok     Ok   \n",
       "8554   2035462   Ok  Ok          Ok             Ok        Ok   Ok     Ok   \n",
       "8595   2035770   Ok  Ok          Ok             Ok        Ok   Ok     Ok   \n",
       "8853   2036415   Ok  Ok          Ok             Ok        Ok   Ok     Ok   \n",
       "9720   2030729   Ok  Ok          Ok             Ok        Ok   Ok     Ok   \n",
       "\n",
       "     START DATE MATURITY DATE    CLAIMS NAME OF PERSON CHECKING     DATE  \\\n",
       "2277     Not Ok        Not Ok       Non                  lairus  6112021   \n",
       "2285         Ok            Ok       Non                  lairus  6112021   \n",
       "2398         Ok            Ok       Non                  lairus  6112021   \n",
       "2399         Ok            Ok       Non                  lairus  6112021   \n",
       "2402     Not Ok        Not Ok       Non                  lairus  6112021   \n",
       "...         ...           ...       ...                     ...      ...   \n",
       "8420         Ok            Ok       Non           Daniel Masibo  6112021   \n",
       "8554         Ok            Ok  Maturity           Daniel Masibo  6112021   \n",
       "8595         Ok            Ok      Loan                 Rodgers  6112021   \n",
       "8853         Ok            Ok       Non                 Rodgers  6112021   \n",
       "9720         Ok            Ok       Non                 Rodgers  6112021   \n",
       "\n",
       "     Comments  \n",
       "2277      NaN  \n",
       "2285      NaN  \n",
       "2398      NaN  \n",
       "2399      NaN  \n",
       "2402      NaN  \n",
       "...       ...  \n",
       "8420      NaN  \n",
       "8554      NaN  \n",
       "8595      NaN  \n",
       "8853      NaN  \n",
       "9720      NaN  \n",
       "\n",
       "[385 rows x 14 columns]"
      ]
     },
     "execution_count": 27,
     "metadata": {},
     "output_type": "execute_result"
    }
   ],
   "source": [
    "filter=df[df['DATE']==6112021]\n",
    "print(len(filter))\n",
    "df[df['DATE']==6112021]"
   ]
  },
  {
   "cell_type": "markdown",
   "id": "48055022",
   "metadata": {},
   "source": [
    "### Saving the file back to the directory in a format (excel) that is user friendly"
   ]
  },
  {
   "cell_type": "code",
   "execution_count": 28,
   "id": "f503a5fc",
   "metadata": {},
   "outputs": [],
   "source": [
    "df[df['DATE']==6112021].to_excel('Friday 11-06-2021 task.xlsx')"
   ]
  },
  {
   "cell_type": "markdown",
   "id": "695200be",
   "metadata": {},
   "source": [
    "By: *Daniel Masibo*"
   ]
  }
 ],
 "metadata": {
  "kernelspec": {
   "display_name": "Python 3",
   "language": "python",
   "name": "python3"
  },
  "language_info": {
   "codemirror_mode": {
    "name": "ipython",
    "version": 3
   },
   "file_extension": ".py",
   "mimetype": "text/x-python",
   "name": "python",
   "nbconvert_exporter": "python",
   "pygments_lexer": "ipython3",
   "version": "3.8.8"
  }
 },
 "nbformat": 4,
 "nbformat_minor": 5
}
